{
 "cells": [
  {
   "cell_type": "code",
   "execution_count": 27,
   "metadata": {
    "collapsed": false
   },
   "outputs": [],
   "source": [
    "%matplotlib inline\n",
    "import pandas as pd\n",
    "import pylab as pl\n",
    "import os\n",
    "import datetime"
   ]
  },
  {
   "cell_type": "code",
   "execution_count": 28,
   "metadata": {
    "collapsed": false
   },
   "outputs": [
    {
     "data": {
      "text/plain": [
       "'C:\\\\Users\\\\Zirui Tao\\\\Box Sync\\\\CS 638\\\\Project\\\\stage 2'"
      ]
     },
     "execution_count": 28,
     "metadata": {},
     "output_type": "execute_result"
    }
   ],
   "source": [
    "os.getcwd()"
   ]
  },
  {
   "cell_type": "code",
   "execution_count": 34,
   "metadata": {
    "collapsed": false
   },
   "outputs": [
    {
     "data": {
      "text/plain": [
       "0        3:32\n",
       "1        3:51\n",
       "2        3:51\n",
       "3        3:55\n",
       "4        3:13\n",
       "5        3:39\n",
       "6        3:27\n",
       "7        3:31\n",
       "8        3:40\n",
       "9        4:07\n",
       "10       4:10\n",
       "11       3:15\n",
       "12       4:31\n",
       "13       4:55\n",
       "14       3:43\n",
       "15       4:02\n",
       "16       3:39\n",
       "17       5:29\n",
       "18       3:52\n",
       "19       4:04\n",
       "20       3:13\n",
       "21       3:25\n",
       "22       4:59\n",
       "23       3:22\n",
       "24       4:44\n",
       "25       4:00\n",
       "26       4:05\n",
       "27       3:40\n",
       "28       3:57\n",
       "29       4:01\n",
       "        ...  \n",
       "2989     4:31\n",
       "2990     2:59\n",
       "2991     4:35\n",
       "2992     3:42\n",
       "2993     4:13\n",
       "2994     3:22\n",
       "2995     3:57\n",
       "2996     3:47\n",
       "2997     2:30\n",
       "2998     2:23\n",
       "2999     5:43\n",
       "3000     4:13\n",
       "3001     3:48\n",
       "3002     4:02\n",
       "3003     3:34\n",
       "3004     5:21\n",
       "3005     2:14\n",
       "3006     3:19\n",
       "3007     3:25\n",
       "3008     3:20\n",
       "3009     3:53\n",
       "3010     3:28\n",
       "3011     4:46\n",
       "3012     4:35\n",
       "3013     4:04\n",
       "3014     3:54\n",
       "3015     4:02\n",
       "3016     3:43\n",
       "3017     3:30\n",
       "3018     3:19\n",
       "Name: Time, dtype: object"
      ]
     },
     "execution_count": 34,
     "metadata": {},
     "output_type": "execute_result"
    }
   ],
   "source": [
    "table = pd.read_csv('C:\\\\Users\\\\Zirui Tao\\\\Box Sync\\\\CS 638\\\\tablea2_utf8.csv')\n",
    "table['Time']"
   ]
  },
  {
   "cell_type": "code",
   "execution_count": 35,
   "metadata": {
    "collapsed": false
   },
   "outputs": [
    {
     "data": {
      "text/plain": [
       "0        4\n",
       "1        4\n",
       "2        4\n",
       "3        4\n",
       "4        4\n",
       "5        4\n",
       "6        4\n",
       "7        4\n",
       "8        4\n",
       "9        4\n",
       "10       4\n",
       "11       4\n",
       "12       4\n",
       "13       4\n",
       "14       4\n",
       "15       4\n",
       "16       4\n",
       "17       4\n",
       "18       4\n",
       "19       4\n",
       "20       4\n",
       "21       4\n",
       "22       4\n",
       "23       4\n",
       "24       4\n",
       "25       4\n",
       "26       4\n",
       "27       4\n",
       "28       4\n",
       "29       9\n",
       "        ..\n",
       "2989     2\n",
       "2990     2\n",
       "2991    21\n",
       "2992    21\n",
       "2993    21\n",
       "2994    21\n",
       "2995    21\n",
       "2996    21\n",
       "2997    21\n",
       "2998    21\n",
       "2999    32\n",
       "3000    32\n",
       "3001    32\n",
       "3002    32\n",
       "3003    32\n",
       "3004    32\n",
       "3005    16\n",
       "3006    16\n",
       "3007    16\n",
       "3008    16\n",
       "3009    16\n",
       "3010    16\n",
       "3011    16\n",
       "3012    16\n",
       "3013    16\n",
       "3014    16\n",
       "3015    16\n",
       "3016    16\n",
       "3017    16\n",
       "3018    16\n",
       "Name: Album Char Length, dtype: int64"
      ]
     },
     "execution_count": 35,
     "metadata": {},
     "output_type": "execute_result"
    }
   ],
   "source": [
    "table ['Album Char Length'] = table['Album'].str.len()\n",
    "table ['Album Char Length']"
   ]
  },
  {
   "cell_type": "code",
   "execution_count": 37,
   "metadata": {
    "collapsed": false
   },
   "outputs": [
    {
     "ename": "NameError",
     "evalue": "name 'datetime' is not defined",
     "output_type": "error",
     "traceback": [
      "\u001b[0;31m---------------------------------------------------------------------------\u001b[0m",
      "\u001b[0;31mNameError\u001b[0m                                 Traceback (most recent call last)",
      "\u001b[0;32m<ipython-input-37-bf6889da3c13>\u001b[0m in \u001b[0;36m<module>\u001b[0;34m()\u001b[0m\n\u001b[1;32m      8\u001b[0m \u001b[1;31m#datetime.datetime.utcfromtimestamp(1284286794)\u001b[0m\u001b[1;33m\u001b[0m\u001b[1;33m\u001b[0m\u001b[0m\n\u001b[1;32m      9\u001b[0m \u001b[1;31m#datetime.datetime(2010, 9, 12, 10, 19, 54)\u001b[0m\u001b[1;33m\u001b[0m\u001b[1;33m\u001b[0m\u001b[0m\n\u001b[0;32m---> 10\u001b[0;31m \u001b[0mtable\u001b[0m\u001b[1;33m[\u001b[0m\u001b[1;34m'Time'\u001b[0m\u001b[1;33m]\u001b[0m \u001b[1;33m>\u001b[0m \u001b[0mdatetime\u001b[0m\u001b[1;33m.\u001b[0m\u001b[0mtime\u001b[0m\u001b[1;33m(\u001b[0m\u001b[1;36m0\u001b[0m\u001b[1;33m,\u001b[0m\u001b[1;36m33\u001b[0m\u001b[1;33m,\u001b[0m\u001b[1;36m0\u001b[0m\u001b[1;33m)\u001b[0m\u001b[1;33m\u001b[0m\u001b[0m\n\u001b[0m",
      "\u001b[0;31mNameError\u001b[0m: name 'datetime' is not defined"
     ]
    }
   ],
   "source": [
    "# convert time into date time \n",
    "table['Time']\n",
    "# table['Time'].str.strip()\n",
    "#table['Time']\n",
    "table['Time'] = table['Time'].str.strip()\n",
    "table['Time']\n",
    "table['Time'] = pd.to_datetime(table['Time'], format='%M:%S').dt.time\n",
    "#datetime.datetime.utcfromtimestamp(1284286794)\n",
    "#datetime.datetime(2010, 9, 12, 10, 19, 54)\n",
    "table['Time'] > datetime.datetime()\n"
   ]
  },
  {
   "cell_type": "code",
   "execution_count": 17,
   "metadata": {
    "collapsed": false
   },
   "outputs": [
    {
     "data": {
      "text/plain": [
       "<matplotlib.text.Text at 0x9d34be0>"
      ]
     },
     "execution_count": 17,
     "metadata": {},
     "output_type": "execute_result"
    },
    {
     "data": {
      "image/png": "[encoded data removed]",
      "text/plain": [
       "<matplotlib.figure.Figure at 0x9a3eda0>"
      ]
     },
     "metadata": {},
     "output_type": "display_data"
    }
   ],
   "source": [
    "#plot the histogram\n",
    "table['Time'].hist()\n",
    "pl.suptitle(\"Track Time Histogram\")\n",
    "pl.xlabel(\"Track Time\")\n",
    "pl.ylabel(\"Count\")"
   ]
  },
  {
   "cell_type": "code",
   "execution_count": 134,
   "metadata": {
    "collapsed": false
   },
   "outputs": [
    {
     "data": {
      "text/plain": [
       "<matplotlib.text.Text at 0xca3d278>"
      ]
     },
     "execution_count": 134,
     "metadata": {},
     "output_type": "execute_result"
    },
    {
     "data": {
      "image/png": "[encoded data removed]",
      "text/plain": [
       "<matplotlib.figure.Figure at 0xc90d7b8>"
      ]
     },
     "metadata": {},
     "output_type": "display_data"
    }
   ],
   "source": [
    "table['Album Char Length'].hist()\n",
    "pl.suptitle(\"Album Character Length Histogram\")\n",
    "pl.xlabel(\"Album Character Length\")\n",
    "pl.ylabel(\"Count\")"
   ]
  },
  {
   "cell_type": "code",
   "execution_count": null,
   "metadata": {
    "collapsed": true
   },
   "outputs": [],
   "source": []
  },
  {
   "cell_type": "code",
   "execution_count": null,
   "metadata": {
    "collapsed": true
   },
   "outputs": [],
   "source": []
  },
  {
   "cell_type": "code",
   "execution_count": null,
   "metadata": {
    "collapsed": true
   },
   "outputs": [],
   "source": []
  }
 ],
 "metadata": {
  "anaconda-cloud": {},
  "kernelspec": {
   "display_name": "Python [default]",
   "language": "python",
   "name": "python2"
  },
  "language_info": {
   "codemirror_mode": {
    "name": "ipython",
    "version": 2
   },
   "file_extension": ".py",
   "mimetype": "text/x-python",
   "name": "python",
   "nbconvert_exporter": "python",
   "pygments_lexer": "ipython2",
   "version": "2.7.12"
  }
 },
 "nbformat": 4,
 "nbformat_minor": 1
}
