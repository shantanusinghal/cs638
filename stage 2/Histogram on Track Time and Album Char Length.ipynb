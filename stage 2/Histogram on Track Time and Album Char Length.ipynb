{
 "cells": [
  {
   "cell_type": "code",
   "execution_count": 101,
   "metadata": {
    "collapsed": false
   },
   "outputs": [],
   "source": [
    "%matplotlib inline\n",
    "import pandas as pd\n",
    "import pylab as pl\n",
    "import os\n",
    "import datetime"
   ]
  },
  {
   "cell_type": "code",
   "execution_count": 102,
   "metadata": {
    "collapsed": false
   },
   "outputs": [
    {
     "data": {
      "text/plain": [
       "'C:\\\\Users\\\\Zirui Tao\\\\Box Sync\\\\CS 638\\\\Project\\\\stage 2'"
      ]
     },
     "execution_count": 102,
     "metadata": {},
     "output_type": "execute_result"
    }
   ],
   "source": [
    "os.getcwd()"
   ]
  },
  {
   "cell_type": "code",
   "execution_count": 103,
   "metadata": {
    "collapsed": false
   },
   "outputs": [
    {
     "data": {
      "text/plain": [
       "0        3:32\n",
       "1        3:51\n",
       "2        3:51\n",
       "3        3:55\n",
       "4        3:13\n",
       "5        3:39\n",
       "6        3:27\n",
       "7        3:31\n",
       "8        3:40\n",
       "9        4:07\n",
       "10       4:10\n",
       "11       3:15\n",
       "12       4:31\n",
       "13       4:55\n",
       "14       3:43\n",
       "15       4:02\n",
       "16       3:39\n",
       "17       5:29\n",
       "18       3:52\n",
       "19       4:04\n",
       "20       3:13\n",
       "21       3:25\n",
       "22       4:59\n",
       "23       3:22\n",
       "24       4:44\n",
       "25       4:00\n",
       "26       4:05\n",
       "27       3:40\n",
       "28       3:57\n",
       "29       4:01\n",
       "        ...  \n",
       "2989     4:31\n",
       "2990     2:59\n",
       "2991     4:35\n",
       "2992     3:42\n",
       "2993     4:13\n",
       "2994     3:22\n",
       "2995     3:57\n",
       "2996     3:47\n",
       "2997     2:30\n",
       "2998     2:23\n",
       "2999     5:43\n",
       "3000     4:13\n",
       "3001     3:48\n",
       "3002     4:02\n",
       "3003     3:34\n",
       "3004     5:21\n",
       "3005     2:14\n",
       "3006     3:19\n",
       "3007     3:25\n",
       "3008     3:20\n",
       "3009     3:53\n",
       "3010     3:28\n",
       "3011     4:46\n",
       "3012     4:35\n",
       "3013     4:04\n",
       "3014     3:54\n",
       "3015     4:02\n",
       "3016     3:43\n",
       "3017     3:30\n",
       "3018     3:19\n",
       "Name: Time, dtype: object"
      ]
     },
     "execution_count": 103,
     "metadata": {},
     "output_type": "execute_result"
    }
   ],
   "source": [
    "table = pd.read_csv('C:\\\\Users\\\\Zirui Tao\\\\Box Sync\\\\CS 638\\\\tablea2_utf8.csv')\n",
    "table['Time']"
   ]
  },
  {
   "cell_type": "code",
   "execution_count": 109,
   "metadata": {
    "collapsed": false
   },
   "outputs": [
    {
     "data": {
      "text/html": [
       "<div>\n",
       "<table border=\"1\" class=\"dataframe\">\n",
       "  <thead>\n",
       "    <tr style=\"text-align: right;\">\n",
       "      <th></th>\n",
       "      <th>Id</th>\n",
       "      <th>Album</th>\n",
       "      <th>Genres</th>\n",
       "      <th>Label</th>\n",
       "      <th>Time</th>\n",
       "      <th>TrackName</th>\n",
       "      <th>Price</th>\n",
       "      <th>Artist</th>\n",
       "      <th>Released</th>\n",
       "      <th>Album Char Length</th>\n",
       "    </tr>\n",
       "  </thead>\n",
       "  <tbody>\n",
       "    <tr>\n",
       "      <th>2957</th>\n",
       "      <td>2980</td>\n",
       "      <td>One Man Can Change the World (feat. Kanye Wes...</td>\n",
       "      <td>Hip-Hop/Rap, Music</td>\n",
       "      <td>2015 Getting Out Our Dreams</td>\n",
       "      <td>00:04:53</td>\n",
       "      <td>One Man Can Change the World (feat. Kanye Wes...</td>\n",
       "      <td>$1.29</td>\n",
       "      <td>Big Sean</td>\n",
       "      <td>16-Oct-16</td>\n",
       "      <td>90</td>\n",
       "    </tr>\n",
       "  </tbody>\n",
       "</table>\n",
       "</div>"
      ],
      "text/plain": [
       "        Id                                              Album  \\\n",
       "2957  2980   One Man Can Change the World (feat. Kanye Wes...   \n",
       "\n",
       "                   Genres                        Label      Time  \\\n",
       "2957   Hip-Hop/Rap, Music  2015 Getting Out Our Dreams  00:04:53   \n",
       "\n",
       "                                              TrackName   Price     Artist  \\\n",
       "2957   One Man Can Change the World (feat. Kanye Wes...  $1.29    Big Sean   \n",
       "\n",
       "       Released  Album Char Length  \n",
       "2957  16-Oct-16                 90  "
      ]
     },
     "execution_count": 109,
     "metadata": {},
     "output_type": "execute_result"
    }
   ],
   "source": [
    "table ['Album Char Length'] = table['Album'].str.len()\n",
    "table.loc[table ['Album Char Length']> 80] "
   ]
  },
  {
   "cell_type": "code",
   "execution_count": 105,
   "metadata": {
    "collapsed": false
   },
   "outputs": [
    {
     "data": {
      "text/html": [
       "<div>\n",
       "<table border=\"1\" class=\"dataframe\">\n",
       "  <thead>\n",
       "    <tr style=\"text-align: right;\">\n",
       "      <th></th>\n",
       "      <th>Id</th>\n",
       "      <th>Album</th>\n",
       "      <th>Genres</th>\n",
       "      <th>Label</th>\n",
       "      <th>Time</th>\n",
       "      <th>TrackName</th>\n",
       "      <th>Price</th>\n",
       "      <th>Artist</th>\n",
       "      <th>Released</th>\n",
       "      <th>Album Char Length</th>\n",
       "    </tr>\n",
       "  </thead>\n",
       "  <tbody>\n",
       "    <tr>\n",
       "      <th>2765</th>\n",
       "      <td>2786</td>\n",
       "      <td>My Beautiful Dark Twisted Fantasy (Deluxe Edi...</td>\n",
       "      <td>Hip-Hop/Rap, Music, Hardcore Rap, Rap, Rock</td>\n",
       "      <td>2010 Roc-A-Fella Records, LLC</td>\n",
       "      <td>00:34:29</td>\n",
       "      <td>Runaway (Full-length Film Version)</td>\n",
       "      <td>NaN</td>\n",
       "      <td>Kanye West</td>\n",
       "      <td>22-Nov-10</td>\n",
       "      <td>51</td>\n",
       "    </tr>\n",
       "    <tr>\n",
       "      <th>2889</th>\n",
       "      <td>2911</td>\n",
       "      <td>My Beautiful Dark Twisted Fantasy (Deluxe Edi...</td>\n",
       "      <td>Hip-Hop/Rap, Music, Hardcore Rap, Rap</td>\n",
       "      <td>2010 Roc-A-Fella Records, LLC</td>\n",
       "      <td>00:34:25</td>\n",
       "      <td>Runway</td>\n",
       "      <td>NaN</td>\n",
       "      <td>Kanye West</td>\n",
       "      <td>22-Nov-10</td>\n",
       "      <td>51</td>\n",
       "    </tr>\n",
       "  </tbody>\n",
       "</table>\n",
       "</div>"
      ],
      "text/plain": [
       "        Id                                              Album  \\\n",
       "2765  2786   My Beautiful Dark Twisted Fantasy (Deluxe Edi...   \n",
       "2889  2911   My Beautiful Dark Twisted Fantasy (Deluxe Edi...   \n",
       "\n",
       "                                           Genres  \\\n",
       "2765  Hip-Hop/Rap, Music, Hardcore Rap, Rap, Rock   \n",
       "2889        Hip-Hop/Rap, Music, Hardcore Rap, Rap   \n",
       "\n",
       "                               Label      Time  \\\n",
       "2765  2010 Roc-A-Fella Records, LLC   00:34:29   \n",
       "2889   2010 Roc-A-Fella Records, LLC  00:34:25   \n",
       "\n",
       "                                TrackName Price       Artist   Released  \\\n",
       "2765   Runaway (Full-length Film Version)   NaN   Kanye West  22-Nov-10   \n",
       "2889                               Runway   NaN   Kanye West  22-Nov-10   \n",
       "\n",
       "      Album Char Length  \n",
       "2765                 51  \n",
       "2889                 51  "
      ]
     },
     "execution_count": 105,
     "metadata": {},
     "output_type": "execute_result"
    }
   ],
   "source": [
    "# convert time into date time \n",
    "table['Time']\n",
    "# table['Time'].str.strip()\n",
    "#table['Time']\n",
    "table['Time'] = table['Time'].str.strip()\n",
    "table['Time']\n",
    "table['Time'] = pd.to_datetime(table['Time'], format='%M:%S').dt.time\n",
    "#datetime.datetime.utcfromtimestamp(1284286794)\n",
    "#datetime.datetime(2010, 9, 12, 10, 19, 54)\n",
    "# th = pd.to_datetime(datetime.datetime(1990,10,1,0,33,0),format='%M:%S').dt\n",
    "th = datetime.datetime(1990,10,1,0,33,20)\n",
    "th = datetime.datetime.time(th)\n",
    "th\n",
    "table.loc[table['Time'] > th]\n"
   ]
  },
  {
   "cell_type": "code",
   "execution_count": 91,
   "metadata": {
    "collapsed": false
   },
   "outputs": [
    {
     "data": {
      "text/plain": [
       "<matplotlib.text.Text at 0x9884128>"
      ]
     },
     "execution_count": 91,
     "metadata": {},
     "output_type": "execute_result"
    },
    {
     "data": {
      "image/png": "[encoded data removed]",
      "text/plain": [
       "<matplotlib.figure.Figure at 0x9b877f0>"
      ]
     },
     "metadata": {},
     "output_type": "display_data"
    }
   ],
   "source": [
    "#plot the histogram\n",
    "table['Time'].hist()\n",
    "pl.suptitle(\"Track Time Histogram\")\n",
    "pl.xlabel(\"Track Time\")\n",
    "pl.ylabel(\"Count\")"
   ]
  },
  {
   "cell_type": "code",
   "execution_count": 134,
   "metadata": {
    "collapsed": false
   },
   "outputs": [
    {
     "data": {
      "text/plain": [
       "<matplotlib.text.Text at 0xca3d278>"
      ]
     },
     "execution_count": 134,
     "metadata": {},
     "output_type": "execute_result"
    },
    {
     "data": {
      "image/png": "[encoded data removed]",
      "text/plain": [
       "<matplotlib.figure.Figure at 0xc90d7b8>"
      ]
     },
     "metadata": {},
     "output_type": "display_data"
    }
   ],
   "source": [
    "table['Album Char Length'].hist()\n",
    "pl.suptitle(\"Album Character Length Histogram\")\n",
    "pl.xlabel(\"Album Character Length\")\n",
    "pl.ylabel(\"Count\")"
   ]
  },
  {
   "cell_type": "code",
   "execution_count": null,
   "metadata": {
    "collapsed": true
   },
   "outputs": [],
   "source": []
  },
  {
   "cell_type": "code",
   "execution_count": null,
   "metadata": {
    "collapsed": true
   },
   "outputs": [],
   "source": []
  },
  {
   "cell_type": "code",
   "execution_count": null,
   "metadata": {
    "collapsed": true
   },
   "outputs": [],
   "source": []
  }
 ],
 "metadata": {
  "anaconda-cloud": {},
  "kernelspec": {
   "display_name": "Python [default]",
   "language": "python",
   "name": "python2"
  },
  "language_info": {
   "codemirror_mode": {
    "name": "ipython",
    "version": 2
   },
   "file_extension": ".py",
   "mimetype": "text/x-python",
   "name": "python",
   "nbconvert_exporter": "python",
   "pygments_lexer": "ipython2",
   "version": "2.7.12"
  }
 },
 "nbformat": 4,
 "nbformat_minor": 1
}
